{
 "cells": [
  {
   "cell_type": "code",
   "execution_count": 1,
   "id": "4215c961",
   "metadata": {
    "execution": {
     "iopub.execute_input": "2022-12-19T18:49:55.567879Z",
     "iopub.status.busy": "2022-12-19T18:49:55.567099Z",
     "iopub.status.idle": "2022-12-19T18:49:55.617072Z",
     "shell.execute_reply": "2022-12-19T18:49:55.615577Z"
    },
    "papermill": {
     "duration": 0.059716,
     "end_time": "2022-12-19T18:49:55.620370",
     "exception": false,
     "start_time": "2022-12-19T18:49:55.560654",
     "status": "completed"
    },
    "tags": []
   },
   "outputs": [],
   "source": [
    "# infrastructure imports\n",
    "from arrow import now"
   ]
  },
  {
   "cell_type": "code",
   "execution_count": 2,
   "id": "c177b874",
   "metadata": {
    "execution": {
     "iopub.execute_input": "2022-12-19T18:49:55.629142Z",
     "iopub.status.busy": "2022-12-19T18:49:55.628644Z",
     "iopub.status.idle": "2022-12-19T18:49:57.050724Z",
     "shell.execute_reply": "2022-12-19T18:49:57.049395Z"
    },
    "papermill": {
     "duration": 1.429205,
     "end_time": "2022-12-19T18:49:57.053442",
     "exception": false,
     "start_time": "2022-12-19T18:49:55.624237",
     "status": "completed"
    },
    "tags": []
   },
   "outputs": [],
   "source": [
    "# functional imports\n",
    "from matplotlib.pyplot import plot\n",
    "from numpy import unique\n",
    "from pandas import get_dummies\n",
    "from pandas import read_csv\n",
    "from pandas import DataFrame\n",
    "from sklearn.linear_model import LogisticRegression\n",
    "from sklearn.metrics import accuracy_score"
   ]
  },
  {
   "cell_type": "code",
   "execution_count": 3,
   "id": "3526b906",
   "metadata": {
    "execution": {
     "iopub.execute_input": "2022-12-19T18:49:57.061620Z",
     "iopub.status.busy": "2022-12-19T18:49:57.060651Z",
     "iopub.status.idle": "2022-12-19T18:49:57.091439Z",
     "shell.execute_reply": "2022-12-19T18:49:57.089853Z"
    },
    "papermill": {
     "duration": 0.038881,
     "end_time": "2022-12-19T18:49:57.095353",
     "exception": false,
     "start_time": "2022-12-19T18:49:57.056472",
     "status": "completed"
    },
    "tags": []
   },
   "outputs": [
    {
     "name": "stdout",
     "output_type": "stream",
     "text": [
      "2022-12-19T18:49:57.084708+00:00: train shape: (891, 12)\n"
     ]
    }
   ],
   "source": [
    "train_fname = '../input/titanic/train.csv'\n",
    "train_df = read_csv(filepath_or_buffer=train_fname)\n",
    "print('{}: train shape: {}'.format(now(), train_df.shape))"
   ]
  },
  {
   "cell_type": "code",
   "execution_count": 4,
   "id": "4878fce4",
   "metadata": {
    "execution": {
     "iopub.execute_input": "2022-12-19T18:49:57.103280Z",
     "iopub.status.busy": "2022-12-19T18:49:57.102862Z",
     "iopub.status.idle": "2022-12-19T18:49:57.138214Z",
     "shell.execute_reply": "2022-12-19T18:49:57.136930Z"
    },
    "papermill": {
     "duration": 0.042721,
     "end_time": "2022-12-19T18:49:57.141177",
     "exception": false,
     "start_time": "2022-12-19T18:49:57.098456",
     "status": "completed"
    },
    "tags": []
   },
   "outputs": [],
   "source": [
    "# use a function to prepare our data so we can apply the same transformation to train and test\n",
    "def prepare(input_df: DataFrame) -> DataFrame:\n",
    "    # one-hot encoding for categorical columns Sex, Pclass, Embarked\n",
    "    drop_columns = ['PassengerId', 'Survived', 'Name', 'Ticket', 'Cabin']\n",
    "    drop_columns = [column for column in drop_columns if column in input_df.columns]\n",
    "    result_df = get_dummies(data=input_df, columns=['Sex', 'Pclass', 'Embarked',]).drop(columns=drop_columns)\n",
    "    # fill in median values \n",
    "    for column in ['Age', 'Fare']:\n",
    "        result_df[column + 'Null'] = result_df[column].isnull().astype(int)\n",
    "    median_age = input_df['Age'].dropna().median()\n",
    "    median_fare = input_df['Fare'].dropna().median()\n",
    "    result_df['Age'] = result_df['Age'].fillna(median_age)\n",
    "    result_df['Fare'] = result_df['Fare'].fillna(median_fare)\n",
    "    return result_df\n",
    "\n",
    "prepared_df = prepare(input_df=train_df)"
   ]
  },
  {
   "cell_type": "code",
   "execution_count": 5,
   "id": "04435af9",
   "metadata": {
    "execution": {
     "iopub.execute_input": "2022-12-19T18:49:57.149220Z",
     "iopub.status.busy": "2022-12-19T18:49:57.148792Z",
     "iopub.status.idle": "2022-12-19T18:49:57.943456Z",
     "shell.execute_reply": "2022-12-19T18:49:57.941534Z"
    },
    "papermill": {
     "duration": 0.804538,
     "end_time": "2022-12-19T18:49:57.948952",
     "exception": false,
     "start_time": "2022-12-19T18:49:57.144414",
     "status": "completed"
    },
    "tags": []
   },
   "outputs": [
    {
     "name": "stdout",
     "output_type": "stream",
     "text": [
      "2022-12-19T18:49:57.935326+00:00: score: 0.8025\n"
     ]
    }
   ],
   "source": [
    "fit_intercept = True\n",
    "max_iter = 4000\n",
    "penalty = ['none', 'l1', 'l2', 'elasticnet'][2]\n",
    "random_state = 1\n",
    "solver = ['lbfgs', 'liblinear', 'newton-cg', 'newton-cholesky', 'sag', 'saga'][4]\n",
    "# solver = sag + penalty = l2 -> 0.76794\n",
    "# solver = lbfgs + penalty = l2 -> 0.77033\n",
    "model = LogisticRegression(fit_intercept=fit_intercept, max_iter=max_iter, penalty=penalty, random_state=random_state,\n",
    "                          solver=solver, verbose=0)\n",
    "model.fit(X=prepared_df, y=train_df['Survived'])\n",
    "# get the accuracy score\n",
    "score = accuracy_score(y_true=train_df['Survived'], y_pred=model.predict(X=prepared_df))\n",
    "print('{}: score: {:0.4f}'.format(now(), score))"
   ]
  },
  {
   "cell_type": "code",
   "execution_count": 6,
   "id": "5b4e47ff",
   "metadata": {
    "execution": {
     "iopub.execute_input": "2022-12-19T18:49:57.965699Z",
     "iopub.status.busy": "2022-12-19T18:49:57.964708Z",
     "iopub.status.idle": "2022-12-19T18:49:58.253047Z",
     "shell.execute_reply": "2022-12-19T18:49:58.251942Z"
    },
    "papermill": {
     "duration": 0.299925,
     "end_time": "2022-12-19T18:49:58.255719",
     "exception": false,
     "start_time": "2022-12-19T18:49:57.955794",
     "status": "completed"
    },
    "tags": []
   },
   "outputs": [
    {
     "data": {
      "text/plain": [
       "{0: 589, 1: 302}"
      ]
     },
     "execution_count": 6,
     "metadata": {},
     "output_type": "execute_result"
    },
    {
     "data": {
      "image/png": "[encoded data removed]",
      "text/plain": [
       "<Figure size 432x288 with 1 Axes>"
      ]
     },
     "metadata": {
      "needs_background": "light"
     },
     "output_type": "display_data"
    }
   ],
   "source": [
    "y_pred = model.predict(X=prepared_df)\n",
    "plot(sorted(y_pred.tolist()), )\n",
    "values, counts = unique(y_pred, return_counts=True)\n",
    "dict(zip(values, counts))"
   ]
  },
  {
   "cell_type": "code",
   "execution_count": 7,
   "id": "41479340",
   "metadata": {
    "execution": {
     "iopub.execute_input": "2022-12-19T18:49:58.264735Z",
     "iopub.status.busy": "2022-12-19T18:49:58.263819Z",
     "iopub.status.idle": "2022-12-19T18:49:58.300477Z",
     "shell.execute_reply": "2022-12-19T18:49:58.298912Z"
    },
    "papermill": {
     "duration": 0.044082,
     "end_time": "2022-12-19T18:49:58.303159",
     "exception": false,
     "start_time": "2022-12-19T18:49:58.259077",
     "status": "completed"
    },
    "tags": []
   },
   "outputs": [
    {
     "name": "stdout",
     "output_type": "stream",
     "text": [
      "2022-12-19T18:49:58.277663+00:00: test shape: (418, 11)\n",
      "2022-12-19T18:49:58.295639+00:00: wrote submission to ./submission.csv\n"
     ]
    }
   ],
   "source": [
    "# now predict\n",
    "test_fname = '../input/titanic/test.csv'\n",
    "test_df = read_csv(filepath_or_buffer=test_fname)\n",
    "print('{}: test shape: {}'.format(now(), test_df.shape))\n",
    "prepared_test_df = prepare(input_df=test_df)\n",
    "test_df['Survived'] = model.predict(X=prepared_test_df)\n",
    "result_columns = ['PassengerId', 'Survived']\n",
    "result_fname = './submission.csv'\n",
    "test_df[result_columns].to_csv(index=False, path_or_buf=result_fname,)\n",
    "print('{}: wrote submission to {}'.format(now(), result_fname))\n",
    "# trivial model is everyone dies - score 0.622\n",
    "test_df['Trivial_Survived'] = 0"
   ]
  }
 ],
 "metadata": {
  "kernelspec": {
   "display_name": "Python 3",
   "language": "python",
   "name": "python3"
  },
  "language_info": {
   "codemirror_mode": {
    "name": "ipython",
    "version": 3
   },
   "file_extension": ".py",
   "mimetype": "text/x-python",
   "name": "python",
   "nbconvert_exporter": "python",
   "pygments_lexer": "ipython3",
   "version": "3.7.12"
  },
  "papermill": {
   "default_parameters": {},
   "duration": 14.247081,
   "end_time": "2022-12-19T18:49:59.334107",
   "environment_variables": {},
   "exception": null,
   "input_path": "__notebook__.ipynb",
   "output_path": "__notebook__.ipynb",
   "parameters": {},
   "start_time": "2022-12-19T18:49:45.087026",
   "version": "2.3.4"
  }
 },
 "nbformat": 4,
 "nbformat_minor": 5
}
