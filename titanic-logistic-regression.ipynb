{
 "cells": [
  {
   "cell_type": "code",
   "execution_count": 1,
   "id": "49fd65eb",
   "metadata": {
    "execution": {
     "iopub.execute_input": "2022-12-09T21:55:39.265674Z",
     "iopub.status.busy": "2022-12-09T21:55:39.265097Z",
     "iopub.status.idle": "2022-12-09T21:55:39.319717Z",
     "shell.execute_reply": "2022-12-09T21:55:39.318368Z"
    },
    "papermill": {
     "duration": 0.063589,
     "end_time": "2022-12-09T21:55:39.322984",
     "exception": false,
     "start_time": "2022-12-09T21:55:39.259395",
     "status": "completed"
    },
    "tags": []
   },
   "outputs": [],
   "source": [
    "# infrastructure imports\n",
    "from arrow import now"
   ]
  },
  {
   "cell_type": "code",
   "execution_count": 2,
   "id": "f987b6f4",
   "metadata": {
    "execution": {
     "iopub.execute_input": "2022-12-09T21:55:39.332103Z",
     "iopub.status.busy": "2022-12-09T21:55:39.330515Z",
     "iopub.status.idle": "2022-12-09T21:55:40.649711Z",
     "shell.execute_reply": "2022-12-09T21:55:40.648362Z"
    },
    "papermill": {
     "duration": 1.327005,
     "end_time": "2022-12-09T21:55:40.652977",
     "exception": false,
     "start_time": "2022-12-09T21:55:39.325972",
     "status": "completed"
    },
    "tags": []
   },
   "outputs": [],
   "source": [
    "# functional imports\n",
    "from pandas import get_dummies\n",
    "from pandas import read_csv\n",
    "from pandas import DataFrame\n",
    "from sklearn.linear_model import LogisticRegression\n",
    "from sklearn.metrics import accuracy_score"
   ]
  },
  {
   "cell_type": "code",
   "execution_count": 3,
   "id": "c8351118",
   "metadata": {
    "execution": {
     "iopub.execute_input": "2022-12-09T21:55:40.660889Z",
     "iopub.status.busy": "2022-12-09T21:55:40.660371Z",
     "iopub.status.idle": "2022-12-09T21:55:40.686257Z",
     "shell.execute_reply": "2022-12-09T21:55:40.685239Z"
    },
    "papermill": {
     "duration": 0.033303,
     "end_time": "2022-12-09T21:55:40.689159",
     "exception": false,
     "start_time": "2022-12-09T21:55:40.655856",
     "status": "completed"
    },
    "tags": []
   },
   "outputs": [
    {
     "name": "stdout",
     "output_type": "stream",
     "text": [
      "2022-12-09T21:55:40.682500+00:00: train shape: (891, 12)\n"
     ]
    }
   ],
   "source": [
    "train_fname = '../input/titanic/train.csv'\n",
    "train_df = read_csv(filepath_or_buffer=train_fname)\n",
    "print('{}: train shape: {}'.format(now(), train_df.shape))"
   ]
  },
  {
   "cell_type": "code",
   "execution_count": 4,
   "id": "1698f817",
   "metadata": {
    "execution": {
     "iopub.execute_input": "2022-12-09T21:55:40.696724Z",
     "iopub.status.busy": "2022-12-09T21:55:40.696048Z",
     "iopub.status.idle": "2022-12-09T21:55:40.729539Z",
     "shell.execute_reply": "2022-12-09T21:55:40.728262Z"
    },
    "papermill": {
     "duration": 0.040523,
     "end_time": "2022-12-09T21:55:40.732455",
     "exception": false,
     "start_time": "2022-12-09T21:55:40.691932",
     "status": "completed"
    },
    "tags": []
   },
   "outputs": [],
   "source": [
    "# use a function to prepare our data so we can apply the same transformation to train and test\n",
    "def prepare(input_df: DataFrame) -> DataFrame:\n",
    "    # one-hot encoding for categorical columns Sex, Pclass, Embarked\n",
    "    drop_columns = ['PassengerId', 'Survived', 'Name', 'Ticket', 'Cabin']\n",
    "    drop_columns = [column for column in drop_columns if column in input_df.columns]\n",
    "    result_df = get_dummies(data=input_df, columns=['Sex', 'Pclass', 'Embarked',]).drop(columns=drop_columns)\n",
    "    # fill in median values \n",
    "    for column in ['Age', 'Fare']:\n",
    "        result_df[column + 'Null'] = result_df[column].isnull().astype(int)\n",
    "    median_age = input_df['Age'].dropna().median()\n",
    "    median_fare = input_df['Fare'].dropna().median()\n",
    "    result_df['Age'] = result_df['Age'].fillna(median_age)\n",
    "    result_df['Fare'] = result_df['Fare'].fillna(median_fare)\n",
    "    return result_df\n",
    "\n",
    "prepared_df = prepare(input_df=train_df)"
   ]
  },
  {
   "cell_type": "code",
   "execution_count": 5,
   "id": "402fb5b8",
   "metadata": {
    "execution": {
     "iopub.execute_input": "2022-12-09T21:55:40.739799Z",
     "iopub.status.busy": "2022-12-09T21:55:40.739376Z",
     "iopub.status.idle": "2022-12-09T21:55:41.536931Z",
     "shell.execute_reply": "2022-12-09T21:55:41.535117Z"
    },
    "papermill": {
     "duration": 0.806286,
     "end_time": "2022-12-09T21:55:41.541579",
     "exception": false,
     "start_time": "2022-12-09T21:55:40.735293",
     "status": "completed"
    },
    "tags": []
   },
   "outputs": [
    {
     "name": "stdout",
     "output_type": "stream",
     "text": [
      "2022-12-09T21:55:41.528717+00:00: score: 0.8025\n"
     ]
    }
   ],
   "source": [
    "fit_intercept = True\n",
    "max_iter = 4000\n",
    "penalty = ['none', 'l1', 'l2', 'elasticnet'][2]\n",
    "random_state = 1\n",
    "solver = ['lbfgs', 'liblinear', 'newton-cg', 'newton-cholesky', 'sag', 'saga'][4]\n",
    "# solver = sag + penalty = l2 -> 0.76794\n",
    "# solver = lbfgs + penalty = l2 -> 0.77033\n",
    "model = LogisticRegression(fit_intercept=fit_intercept, max_iter=max_iter, penalty=penalty, random_state=random_state,\n",
    "                          solver=solver, verbose=0)\n",
    "model.fit(X=prepared_df, y=train_df['Survived'])\n",
    "# get the accuracy score\n",
    "score = accuracy_score(y_true=train_df['Survived'], y_pred=model.predict(X=prepared_df))\n",
    "print('{}: score: {:0.4f}'.format(now(), score))"
   ]
  },
  {
   "cell_type": "code",
   "execution_count": 6,
   "id": "bdace164",
   "metadata": {
    "execution": {
     "iopub.execute_input": "2022-12-09T21:55:41.557856Z",
     "iopub.status.busy": "2022-12-09T21:55:41.557041Z",
     "iopub.status.idle": "2022-12-09T21:55:41.619390Z",
     "shell.execute_reply": "2022-12-09T21:55:41.618067Z"
    },
    "papermill": {
     "duration": 0.075698,
     "end_time": "2022-12-09T21:55:41.624160",
     "exception": false,
     "start_time": "2022-12-09T21:55:41.548462",
     "status": "completed"
    },
    "tags": []
   },
   "outputs": [
    {
     "name": "stdout",
     "output_type": "stream",
     "text": [
      "2022-12-09T21:55:41.580436+00:00: test shape: (418, 11)\n",
      "2022-12-09T21:55:41.613716+00:00: wrote submission to ./submission.csv\n"
     ]
    }
   ],
   "source": [
    "# now predict\n",
    "test_fname = '../input/titanic/test.csv'\n",
    "test_df = read_csv(filepath_or_buffer=test_fname)\n",
    "print('{}: test shape: {}'.format(now(), test_df.shape))\n",
    "prepared_test_df = prepare(input_df=test_df)\n",
    "test_df['Survived'] = model.predict(X=prepared_test_df)\n",
    "result_columns = ['PassengerId', 'Survived']\n",
    "result_fname = './submission.csv'\n",
    "test_df[result_columns].to_csv(index=False, path_or_buf=result_fname,)\n",
    "print('{}: wrote submission to {}'.format(now(), result_fname))\n",
    "# trivial model is everyone dies - score 0.622\n",
    "test_df['Trivial_Survived'] = 0"
   ]
  }
 ],
 "metadata": {
  "kernelspec": {
   "display_name": "Python 3",
   "language": "python",
   "name": "python3"
  },
  "language_info": {
   "codemirror_mode": {
    "name": "ipython",
    "version": 3
   },
   "file_extension": ".py",
   "mimetype": "text/x-python",
   "name": "python",
   "nbconvert_exporter": "python",
   "pygments_lexer": "ipython3",
   "version": "3.7.12"
  },
  "papermill": {
   "default_parameters": {},
   "duration": 12.252704,
   "end_time": "2022-12-09T21:55:42.465491",
   "environment_variables": {},
   "exception": null,
   "input_path": "__notebook__.ipynb",
   "output_path": "__notebook__.ipynb",
   "parameters": {},
   "start_time": "2022-12-09T21:55:30.212787",
   "version": "2.3.4"
  }
 },
 "nbformat": 4,
 "nbformat_minor": 5
}
